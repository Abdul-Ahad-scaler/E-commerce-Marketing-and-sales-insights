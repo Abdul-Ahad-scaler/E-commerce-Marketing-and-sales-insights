{
  "nbformat": 4,
  "nbformat_minor": 0,
  "metadata": {
    "colab": {
      "provenance": []
    },
    "kernelspec": {
      "name": "python3",
      "display_name": "Python 3"
    },
    "language_info": {
      "name": "python"
    }
  },
  "cells": [
    {
      "cell_type": "code",
      "execution_count": null,
      "metadata": {
        "id": "8zdiUe7MQrxg"
      },
      "outputs": [],
      "source": [
        ""
      ]
    },
    {
      "cell_type": "code",
      "source": [
        "import numpy as np\n",
        "import pandas as pd\n",
        "import seaborn as sns\n",
        "import matplotlib.pyplot as plt\n",
        "from datetime import date\n",
        "from scipy.stats import pearsonr,spearmanr"
      ],
      "metadata": {
        "execution": {
          "iopub.status.busy": "2023-11-03T04:09:51.083903Z",
          "iopub.execute_input": "2023-11-03T04:09:51.084263Z",
          "iopub.status.idle": "2023-11-03T04:09:51.493762Z",
          "shell.execute_reply.started": "2023-11-03T04:09:51.084235Z",
          "shell.execute_reply": "2023-11-03T04:09:51.492824Z"
        },
        "trusted": true,
        "id": "Cll6xTIlhINp"
      },
      "execution_count": null,
      "outputs": []
    },
    {
      "cell_type": "code",
      "source": [
        "!gdown 1nKb67meAvoFNRG_VueNXh_-k_2F9Oisc\n",
        "!gdown 144wrGLTgzCm8FZdl0rasbjsm6dKG_yvB\n",
        "!gdown 1xgzPmbSCU8KM6Lt1rJXLFADHxgsy9u4t\n",
        "!gdown 1F8EPu3t_GbXX3BQ3OQSXsoieeSsCR5ly\n",
        "!gdown 1CmZ0j83nKoNeOqbGgZHSa92-kdXHkXIP"
      ],
      "metadata": {
        "colab": {
          "base_uri": "https://localhost:8080/"
        },
        "id": "-BVAuQIuh7Ps",
        "outputId": "bb2cd654-a214-4587-e53b-a1281644a7ec"
      },
      "execution_count": null,
      "outputs": [
        {
          "output_type": "stream",
          "name": "stdout",
          "text": [
            "Downloading...\n",
            "From: https://drive.google.com/uc?id=1nKb67meAvoFNRG_VueNXh_-k_2F9Oisc\n",
            "To: /content/Customers.csv\n",
            "100% 31.8k/31.8k [00:00<00:00, 48.4MB/s]\n",
            "Downloading...\n",
            "From: https://drive.google.com/uc?id=144wrGLTgzCm8FZdl0rasbjsm6dKG_yvB\n",
            "To: /content/Discount_Coupon.csv\n",
            "100% 4.92k/4.92k [00:00<00:00, 10.1MB/s]\n",
            "Downloading...\n",
            "From: https://drive.google.com/uc?id=1xgzPmbSCU8KM6Lt1rJXLFADHxgsy9u4t\n",
            "To: /content/Marketing_Spend.csv\n",
            "100% 8.67k/8.67k [00:00<00:00, 24.9MB/s]\n",
            "Downloading...\n",
            "From: https://drive.google.com/uc?id=1F8EPu3t_GbXX3BQ3OQSXsoieeSsCR5ly\n",
            "To: /content/Online_Sales.csv\n",
            "100% 5.24M/5.24M [00:00<00:00, 28.5MB/s]\n",
            "Downloading...\n",
            "From: https://drive.google.com/uc?id=1CmZ0j83nKoNeOqbGgZHSa92-kdXHkXIP\n",
            "To: /content/Tax_amount.csv\n",
            "100% 297/297 [00:00<00:00, 1.00MB/s]\n"
          ]
        }
      ]
    },
    {
      "cell_type": "code",
      "source": [
        "cust_data = pd.read_csv(\"Customers.csv\")\n",
        "discount_coup = pd.read_csv(\"Discount_Coupon.csv\")\n",
        "mrkt_spend = pd.read_csv(\"Marketing_Spend.csv\")\n",
        "online_sale = pd.read_csv(\"Online_Sales.csv\")\n",
        "tax_amt = pd.read_csv(\"Tax_amount.csv\")"
      ],
      "metadata": {
        "execution": {
          "iopub.status.busy": "2023-11-03T04:11:47.335775Z",
          "iopub.execute_input": "2023-11-03T04:11:47.336325Z",
          "iopub.status.idle": "2023-11-03T04:11:48.127237Z",
          "shell.execute_reply.started": "2023-11-03T04:11:47.336295Z",
          "shell.execute_reply": "2023-11-03T04:11:48.126371Z"
        },
        "trusted": true,
        "id": "Fjrre7s7hINq"
      },
      "execution_count": null,
      "outputs": []
    },
    {
      "cell_type": "code",
      "source": [],
      "metadata": {
        "id": "3Cf2TFXiReH3"
      },
      "execution_count": null,
      "outputs": []
    },
    {
      "cell_type": "code",
      "source": [
        "#converting customer id to string\n",
        "cust_data['CustomerID']=cust_data['CustomerID'].astype(str)"
      ],
      "metadata": {
        "id": "GYgJT8LMmsmn"
      },
      "execution_count": null,
      "outputs": []
    },
    {
      "cell_type": "code",
      "source": [
        "discount_coup['Discount_pct']=discount_coup['Discount_pct']/100"
      ],
      "metadata": {
        "id": "hYng11KkgRb9"
      },
      "execution_count": null,
      "outputs": []
    },
    {
      "cell_type": "code",
      "source": [
        "mrkt_spend.Date = pd.to_datetime(mrkt_spend[\"Date\"])"
      ],
      "metadata": {
        "id": "lX-jNxrXnYq_"
      },
      "execution_count": null,
      "outputs": []
    },
    {
      "cell_type": "code",
      "source": [
        "online_sale['CustomerID']=online_sale['CustomerID'].astype(str)\n",
        "online_sale['Transaction_ID']=online_sale['Transaction_ID'].astype(str)\n",
        "online_sale['Transaction_Date'] = pd.to_datetime(online_sale['Transaction_Date'], format='%m/%d/%Y')\n",
        "online_sale['Month'] = online_sale['Transaction_Date'].dt.strftime('%b')"
      ],
      "metadata": {
        "id": "rK9NncIcn4iN"
      },
      "execution_count": null,
      "outputs": []
    },
    {
      "cell_type": "code",
      "source": [
        "merged_df = pd.merge(online_sale, discount_coup, on=['Month', 'Product_Category'], how='left')\n"
      ],
      "metadata": {
        "id": "BZAEY_9JGCbI"
      },
      "execution_count": null,
      "outputs": []
    },
    {
      "cell_type": "code",
      "source": [
        "merged_df['Coupon_Code'].fillna('Not Available',inplace=True)\n",
        "\n",
        "merged_df['Discount_pct'].fillna(0, inplace=True)"
      ],
      "metadata": {
        "id": "lTV7X7g1ogqy",
        "colab": {
          "base_uri": "https://localhost:8080/"
        },
        "outputId": "67ea0f19-8f9e-405f-fec7-3763c159cc11"
      },
      "execution_count": null,
      "outputs": [
        {
          "output_type": "stream",
          "name": "stderr",
          "text": [
            "<ipython-input-24-96f035ce8d48>:1: FutureWarning: A value is trying to be set on a copy of a DataFrame or Series through chained assignment using an inplace method.\n",
            "The behavior will change in pandas 3.0. This inplace method will never work because the intermediate object on which we are setting values always behaves as a copy.\n",
            "\n",
            "For example, when doing 'df[col].method(value, inplace=True)', try using 'df.method({col: value}, inplace=True)' or df[col] = df[col].method(value) instead, to perform the operation inplace on the original object.\n",
            "\n",
            "\n",
            "  merged_df['Coupon_Code'].fillna('Not Available',inplace=True)\n",
            "<ipython-input-24-96f035ce8d48>:3: FutureWarning: A value is trying to be set on a copy of a DataFrame or Series through chained assignment using an inplace method.\n",
            "The behavior will change in pandas 3.0. This inplace method will never work because the intermediate object on which we are setting values always behaves as a copy.\n",
            "\n",
            "For example, when doing 'df[col].method(value, inplace=True)', try using 'df.method({col: value}, inplace=True)' or df[col] = df[col].method(value) instead, to perform the operation inplace on the original object.\n",
            "\n",
            "\n",
            "  merged_df['Discount_pct'].fillna(0, inplace=True)\n"
          ]
        }
      ]
    },
    {
      "cell_type": "code",
      "source": [
        "merged_df.info()"
      ],
      "metadata": {
        "colab": {
          "base_uri": "https://localhost:8080/"
        },
        "id": "_M3dZsx3nZPB",
        "outputId": "fd85d6c6-f6fc-4ec0-cc6e-a68afef53d42"
      },
      "execution_count": null,
      "outputs": [
        {
          "output_type": "stream",
          "name": "stdout",
          "text": [
            "<class 'pandas.core.frame.DataFrame'>\n",
            "RangeIndex: 52924 entries, 0 to 52923\n",
            "Data columns (total 13 columns):\n",
            " #   Column               Non-Null Count  Dtype         \n",
            "---  ------               --------------  -----         \n",
            " 0   CustomerID           52924 non-null  object        \n",
            " 1   Transaction_ID       52924 non-null  object        \n",
            " 2   Transaction_Date     52924 non-null  datetime64[ns]\n",
            " 3   Product_SKU          52924 non-null  object        \n",
            " 4   Product_Description  52924 non-null  object        \n",
            " 5   Product_Category     52924 non-null  object        \n",
            " 6   Quantity             52924 non-null  int64         \n",
            " 7   Avg_Price            52924 non-null  float64       \n",
            " 8   Delivery_Charges     52924 non-null  float64       \n",
            " 9   Coupon_Status        52924 non-null  object        \n",
            " 10  Month                52924 non-null  object        \n",
            " 11  Coupon_Code          52924 non-null  object        \n",
            " 12  Discount_pct         52924 non-null  float64       \n",
            "dtypes: datetime64[ns](1), float64(3), int64(1), object(8)\n",
            "memory usage: 5.2+ MB\n"
          ]
        }
      ]
    },
    {
      "cell_type": "markdown",
      "source": [
        "## Coupon use and high transaction value\n",
        "\n",
        "H0: The average transaction value for customers who use coupons is less than or equal to the average transaction value for customers who don't use coupons.\n",
        "\n",
        "H₁: The average transaction value for customers who use coupons is greater than the average transaction value for customers who don't use coupons."
      ],
      "metadata": {
        "id": "oYCzaXH1SU6U"
      }
    },
    {
      "cell_type": "code",
      "source": [
        "merged_df['Coupon_Status'].value_counts()"
      ],
      "metadata": {
        "colab": {
          "base_uri": "https://localhost:8080/",
          "height": 210
        },
        "id": "_Wqh7ktbnhDb",
        "outputId": "fc133611-faf9-4384-8c53-7bd259b3a85c"
      },
      "execution_count": null,
      "outputs": [
        {
          "output_type": "execute_result",
          "data": {
            "text/plain": [
              "Coupon_Status\n",
              "Clicked     26926\n",
              "Used        17904\n",
              "Not Used     8094\n",
              "Name: count, dtype: int64"
            ],
            "text/html": [
              "<div>\n",
              "<style scoped>\n",
              "    .dataframe tbody tr th:only-of-type {\n",
              "        vertical-align: middle;\n",
              "    }\n",
              "\n",
              "    .dataframe tbody tr th {\n",
              "        vertical-align: top;\n",
              "    }\n",
              "\n",
              "    .dataframe thead th {\n",
              "        text-align: right;\n",
              "    }\n",
              "</style>\n",
              "<table border=\"1\" class=\"dataframe\">\n",
              "  <thead>\n",
              "    <tr style=\"text-align: right;\">\n",
              "      <th></th>\n",
              "      <th>count</th>\n",
              "    </tr>\n",
              "    <tr>\n",
              "      <th>Coupon_Status</th>\n",
              "      <th></th>\n",
              "    </tr>\n",
              "  </thead>\n",
              "  <tbody>\n",
              "    <tr>\n",
              "      <th>Clicked</th>\n",
              "      <td>26926</td>\n",
              "    </tr>\n",
              "    <tr>\n",
              "      <th>Used</th>\n",
              "      <td>17904</td>\n",
              "    </tr>\n",
              "    <tr>\n",
              "      <th>Not Used</th>\n",
              "      <td>8094</td>\n",
              "    </tr>\n",
              "  </tbody>\n",
              "</table>\n",
              "</div><br><label><b>dtype:</b> int64</label>"
            ]
          },
          "metadata": {},
          "execution_count": 26
        }
      ]
    },
    {
      "cell_type": "code",
      "source": [
        "merged_df['Transaction_Value'] = merged_df['Quantity'] * merged_df['Avg_Price']\n",
        "\n",
        "# Define groups: customers who used coupons and those who didn't\n",
        "used_coupons = merged_df[merged_df['Coupon_Status'] == 'Used']\n",
        "not_used_coupons = merged_df[merged_df['Coupon_Status'] == 'Not Used']"
      ],
      "metadata": {
        "id": "fnN2nKNOSWgZ"
      },
      "execution_count": null,
      "outputs": []
    },
    {
      "cell_type": "code",
      "source": [
        "avg_used_coupons = used_coupons['Transaction_Value'].mean()\n",
        "avg_not_used_coupons = not_used_coupons['Transaction_Value'].mean()\n",
        "\n",
        "print(\"Average Transaction Value for Customers Who Used Coupons: \", avg_used_coupons)\n",
        "print(\"Average Transaction Value for Customers Who Didn't Use Coupons: \", avg_not_used_coupons)\n"
      ],
      "metadata": {
        "colab": {
          "base_uri": "https://localhost:8080/"
        },
        "id": "QKuSxVj5SiOI",
        "outputId": "ed9a56a7-2ecd-406f-c598-de278299ed38"
      },
      "execution_count": null,
      "outputs": [
        {
          "output_type": "stream",
          "name": "stdout",
          "text": [
            "Average Transaction Value for Customers Who Used Coupons:  87.17706099195709\n",
            "Average Transaction Value for Customers Who Didn't Use Coupons:  90.52506424511984\n"
          ]
        }
      ]
    },
    {
      "cell_type": "code",
      "source": [
        "from scipy.stats import ttest_ind\n",
        "t_stat, p_val = ttest_ind(used_coupons['Transaction_Value'], not_used_coupons['Transaction_Value'])\n",
        "\n",
        "print(\"T-Statistic: \", t_stat)\n",
        "print(\"P-Value: \", p_val)\n"
      ],
      "metadata": {
        "colab": {
          "base_uri": "https://localhost:8080/"
        },
        "id": "GFFblTu9SiGx",
        "outputId": "4c678f64-5b91-4a02-b4df-80e6dd58f354"
      },
      "execution_count": null,
      "outputs": [
        {
          "output_type": "stream",
          "name": "stdout",
          "text": [
            "T-Statistic:  -1.446695550665131\n",
            "P-Value:  0.1479942682805814\n"
          ]
        }
      ]
    },
    {
      "cell_type": "code",
      "source": [
        "if p_val < 0.05:\n",
        "    print(\"Reject the null hypothesis. Customers who use coupons have a significantly higher average transaction value.\")\n",
        "else:\n",
        "    print(\"Fail to reject the null hypothesis. There is no significant difference in average transaction value between customers who use coupons and those who don't.\")"
      ],
      "metadata": {
        "colab": {
          "base_uri": "https://localhost:8080/"
        },
        "id": "cajr436HSiDj",
        "outputId": "af7db455-b9e8-43eb-a6af-77429613bb54"
      },
      "execution_count": null,
      "outputs": [
        {
          "output_type": "stream",
          "name": "stdout",
          "text": [
            "Fail to reject the null hypothesis. There is no significant difference in average transaction value between customers who use coupons and those who don't.\n"
          ]
        }
      ]
    },
    {
      "cell_type": "markdown",
      "source": [
        "## Influence of Demographics on Purchase Behavior\n",
        "\n",
        "\n",
        "H₀: There is no difference in average purchase frequency (or order value) across different demographic groups (e.g., gender, location).\n",
        "\n",
        "H₁: There is a difference in average purchase frequency (or order value) across different demographic groups."
      ],
      "metadata": {
        "id": "A-msLX79aSkJ"
      }
    },
    {
      "cell_type": "markdown",
      "source": [
        "lets check for gender fiorst then well do for location"
      ],
      "metadata": {
        "id": "tGvI3-tdcWPI"
      }
    },
    {
      "cell_type": "code",
      "source": [
        "\n",
        "# Preprocess dates\n",
        "online_sale['Transaction_Date'] = pd.to_datetime(online_sale['Transaction_Date'])\n",
        "\n",
        "# Merge the customer demographic data with the sales data\n",
        "merged_data = pd.merge(online_sale, cust_data, on=\"CustomerID\", how=\"inner\")\n",
        "\n",
        "# Calculate average order value (revenue per transaction)\n",
        "merged_data['Order_Value'] = merged_data['Quantity'] * merged_data['Avg_Price']\n"
      ],
      "metadata": {
        "id": "DJgEuVgCaG4K"
      },
      "execution_count": null,
      "outputs": []
    },
    {
      "cell_type": "code",
      "source": [
        "# Group data by gender and calculate purchase frequency (number of orders)\n",
        "purchase_frequency_gender = (\n",
        "    merged_data.groupby('Gender')['Transaction_ID'].nunique()\n",
        ").reset_index(name='Purchase_Frequency')"
      ],
      "metadata": {
        "id": "SKl8IAY7aG2j"
      },
      "execution_count": null,
      "outputs": []
    },
    {
      "cell_type": "code",
      "source": [
        "from scipy.stats import f_oneway\n",
        "\n",
        "# Perform one-way ANOVA for purchase frequency across genders\n",
        "grouped_data_gender = [merged_data[merged_data['Gender'] == gender]['Transaction_ID'].nunique()\n",
        "                       for gender in merged_data['Gender'].unique()]\n",
        "f_stat_gender, p_value_gender = f_oneway(*grouped_data_gender)\n",
        "\n",
        "# Print results for Gender\n",
        "print(\"ANOVA Results for Gender (Purchase Frequency):\")\n",
        "print(\"F-statistic:\", f_stat_gender)\n",
        "print(\"P-value:\", p_value_gender)"
      ],
      "metadata": {
        "colab": {
          "base_uri": "https://localhost:8080/"
        },
        "id": "gtbSvlC7aG0R",
        "outputId": "58bc9fce-710f-45db-8324-6865cd0394fa"
      },
      "execution_count": null,
      "outputs": [
        {
          "output_type": "stream",
          "name": "stdout",
          "text": [
            "ANOVA Results for Gender (Purchase Frequency):\n",
            "F-statistic: nan\n",
            "P-value: nan\n"
          ]
        },
        {
          "output_type": "stream",
          "name": "stderr",
          "text": [
            "/usr/local/lib/python3.11/dist-packages/scipy/stats/_stats_py.py:4102: DegenerateDataWarning: all input arrays have length 1.  f_oneway requires that at least one input has length greater than 1.\n",
            "  if _f_oneway_is_too_small(samples):\n"
          ]
        }
      ]
    },
    {
      "cell_type": "code",
      "source": [
        "\n",
        "if p_value_gender < 0.05:\n",
        "    print(\"Reject H₀: There is a difference in average purchase frequency across genders.\")\n",
        "else:\n",
        "    print(\"Fail to reject H₀: No significant difference in purchase frequency across genders.\")\n"
      ],
      "metadata": {
        "colab": {
          "base_uri": "https://localhost:8080/"
        },
        "id": "FCQWFCoPaGyw",
        "outputId": "e66462ee-481d-495c-bdb5-679be85e4995"
      },
      "execution_count": null,
      "outputs": [
        {
          "output_type": "stream",
          "name": "stdout",
          "text": [
            "Fail to reject H₀: No significant difference in purchase frequency across genders.\n"
          ]
        }
      ]
    },
    {
      "cell_type": "markdown",
      "source": [
        "lets check for location as well"
      ],
      "metadata": {
        "id": "fJD4eB8ocdqV"
      }
    },
    {
      "cell_type": "code",
      "source": [
        "# Group data by location and calculate average order value\n",
        "order_value_location = (\n",
        "    merged_data.groupby('Location')['Order_Value'].mean()\n",
        ").reset_index(name='Average_Order_Value')\n"
      ],
      "metadata": {
        "id": "WnHXbxe2aGwy"
      },
      "execution_count": null,
      "outputs": []
    },
    {
      "cell_type": "code",
      "source": [
        "# Perform one-way ANOVA for order value across locations\n",
        "grouped_data_location = [merged_data[merged_data['Location'] == loc]['Order_Value']\n",
        "                         for loc in merged_data['Location'].unique()]\n",
        "f_stat_location, p_value_location = f_oneway(*grouped_data_location)\n",
        "\n",
        "# Print results for Location\n",
        "print(\"\\nANOVA Results for Location (Order Value):\")\n",
        "print(\"F-statistic:\", f_stat_location)\n",
        "print(\"P-value:\", p_value_location)"
      ],
      "metadata": {
        "colab": {
          "base_uri": "https://localhost:8080/"
        },
        "id": "xAhMmHDHaGs8",
        "outputId": "c41b9164-be60-4c6e-e32a-a248524a37d6"
      },
      "execution_count": null,
      "outputs": [
        {
          "output_type": "stream",
          "name": "stdout",
          "text": [
            "\n",
            "ANOVA Results for Location (Order Value):\n",
            "F-statistic: 3.244958289234009\n",
            "P-value: 0.011381390904715634\n"
          ]
        }
      ]
    },
    {
      "cell_type": "code",
      "source": [
        "\n",
        "if p_value_location < 0.05:\n",
        "    print(\"Reject H₀: There is a difference in average order value across locations.\")\n",
        "else:\n",
        "    print(\"Fail to reject H₀: No significant difference in order value across locations.\")"
      ],
      "metadata": {
        "colab": {
          "base_uri": "https://localhost:8080/"
        },
        "id": "Wkunl1hAaGqE",
        "outputId": "76db990e-9b94-4efa-df04-8e15a947080f"
      },
      "execution_count": null,
      "outputs": [
        {
          "output_type": "stream",
          "name": "stdout",
          "text": [
            "Reject H₀: There is a difference in average order value across locations.\n"
          ]
        }
      ]
    },
    {
      "cell_type": "code",
      "source": [
        "order_value_location"
      ],
      "metadata": {
        "colab": {
          "base_uri": "https://localhost:8080/",
          "height": 206
        },
        "id": "QDjrDyeVe3LA",
        "outputId": "258f649c-4d70-473d-9389-186318283d50"
      },
      "execution_count": null,
      "outputs": [
        {
          "output_type": "execute_result",
          "data": {
            "text/plain": [
              "        Location  Average_Order_Value\n",
              "0     California            89.393115\n",
              "1        Chicago            88.459498\n",
              "2     New Jersey            90.976429\n",
              "3       New York            83.864909\n",
              "4  Washington DC            93.620878"
            ],
            "text/html": [
              "\n",
              "  <div id=\"df-f1404aba-6ff4-4f0d-934e-2ad3da8205d9\" class=\"colab-df-container\">\n",
              "    <div>\n",
              "<style scoped>\n",
              "    .dataframe tbody tr th:only-of-type {\n",
              "        vertical-align: middle;\n",
              "    }\n",
              "\n",
              "    .dataframe tbody tr th {\n",
              "        vertical-align: top;\n",
              "    }\n",
              "\n",
              "    .dataframe thead th {\n",
              "        text-align: right;\n",
              "    }\n",
              "</style>\n",
              "<table border=\"1\" class=\"dataframe\">\n",
              "  <thead>\n",
              "    <tr style=\"text-align: right;\">\n",
              "      <th></th>\n",
              "      <th>Location</th>\n",
              "      <th>Average_Order_Value</th>\n",
              "    </tr>\n",
              "  </thead>\n",
              "  <tbody>\n",
              "    <tr>\n",
              "      <th>0</th>\n",
              "      <td>California</td>\n",
              "      <td>89.393115</td>\n",
              "    </tr>\n",
              "    <tr>\n",
              "      <th>1</th>\n",
              "      <td>Chicago</td>\n",
              "      <td>88.459498</td>\n",
              "    </tr>\n",
              "    <tr>\n",
              "      <th>2</th>\n",
              "      <td>New Jersey</td>\n",
              "      <td>90.976429</td>\n",
              "    </tr>\n",
              "    <tr>\n",
              "      <th>3</th>\n",
              "      <td>New York</td>\n",
              "      <td>83.864909</td>\n",
              "    </tr>\n",
              "    <tr>\n",
              "      <th>4</th>\n",
              "      <td>Washington DC</td>\n",
              "      <td>93.620878</td>\n",
              "    </tr>\n",
              "  </tbody>\n",
              "</table>\n",
              "</div>\n",
              "    <div class=\"colab-df-buttons\">\n",
              "\n",
              "  <div class=\"colab-df-container\">\n",
              "    <button class=\"colab-df-convert\" onclick=\"convertToInteractive('df-f1404aba-6ff4-4f0d-934e-2ad3da8205d9')\"\n",
              "            title=\"Convert this dataframe to an interactive table.\"\n",
              "            style=\"display:none;\">\n",
              "\n",
              "  <svg xmlns=\"http://www.w3.org/2000/svg\" height=\"24px\" viewBox=\"0 -960 960 960\">\n",
              "    <path d=\"M120-120v-720h720v720H120Zm60-500h600v-160H180v160Zm220 220h160v-160H400v160Zm0 220h160v-160H400v160ZM180-400h160v-160H180v160Zm440 0h160v-160H620v160ZM180-180h160v-160H180v160Zm440 0h160v-160H620v160Z\"/>\n",
              "  </svg>\n",
              "    </button>\n",
              "\n",
              "  <style>\n",
              "    .colab-df-container {\n",
              "      display:flex;\n",
              "      gap: 12px;\n",
              "    }\n",
              "\n",
              "    .colab-df-convert {\n",
              "      background-color: #E8F0FE;\n",
              "      border: none;\n",
              "      border-radius: 50%;\n",
              "      cursor: pointer;\n",
              "      display: none;\n",
              "      fill: #1967D2;\n",
              "      height: 32px;\n",
              "      padding: 0 0 0 0;\n",
              "      width: 32px;\n",
              "    }\n",
              "\n",
              "    .colab-df-convert:hover {\n",
              "      background-color: #E2EBFA;\n",
              "      box-shadow: 0px 1px 2px rgba(60, 64, 67, 0.3), 0px 1px 3px 1px rgba(60, 64, 67, 0.15);\n",
              "      fill: #174EA6;\n",
              "    }\n",
              "\n",
              "    .colab-df-buttons div {\n",
              "      margin-bottom: 4px;\n",
              "    }\n",
              "\n",
              "    [theme=dark] .colab-df-convert {\n",
              "      background-color: #3B4455;\n",
              "      fill: #D2E3FC;\n",
              "    }\n",
              "\n",
              "    [theme=dark] .colab-df-convert:hover {\n",
              "      background-color: #434B5C;\n",
              "      box-shadow: 0px 1px 3px 1px rgba(0, 0, 0, 0.15);\n",
              "      filter: drop-shadow(0px 1px 2px rgba(0, 0, 0, 0.3));\n",
              "      fill: #FFFFFF;\n",
              "    }\n",
              "  </style>\n",
              "\n",
              "    <script>\n",
              "      const buttonEl =\n",
              "        document.querySelector('#df-f1404aba-6ff4-4f0d-934e-2ad3da8205d9 button.colab-df-convert');\n",
              "      buttonEl.style.display =\n",
              "        google.colab.kernel.accessAllowed ? 'block' : 'none';\n",
              "\n",
              "      async function convertToInteractive(key) {\n",
              "        const element = document.querySelector('#df-f1404aba-6ff4-4f0d-934e-2ad3da8205d9');\n",
              "        const dataTable =\n",
              "          await google.colab.kernel.invokeFunction('convertToInteractive',\n",
              "                                                    [key], {});\n",
              "        if (!dataTable) return;\n",
              "\n",
              "        const docLinkHtml = 'Like what you see? Visit the ' +\n",
              "          '<a target=\"_blank\" href=https://colab.research.google.com/notebooks/data_table.ipynb>data table notebook</a>'\n",
              "          + ' to learn more about interactive tables.';\n",
              "        element.innerHTML = '';\n",
              "        dataTable['output_type'] = 'display_data';\n",
              "        await google.colab.output.renderOutput(dataTable, element);\n",
              "        const docLink = document.createElement('div');\n",
              "        docLink.innerHTML = docLinkHtml;\n",
              "        element.appendChild(docLink);\n",
              "      }\n",
              "    </script>\n",
              "  </div>\n",
              "\n",
              "\n",
              "<div id=\"df-a58f8bae-f5b2-460d-af59-9ea15b8be058\">\n",
              "  <button class=\"colab-df-quickchart\" onclick=\"quickchart('df-a58f8bae-f5b2-460d-af59-9ea15b8be058')\"\n",
              "            title=\"Suggest charts\"\n",
              "            style=\"display:none;\">\n",
              "\n",
              "<svg xmlns=\"http://www.w3.org/2000/svg\" height=\"24px\"viewBox=\"0 0 24 24\"\n",
              "     width=\"24px\">\n",
              "    <g>\n",
              "        <path d=\"M19 3H5c-1.1 0-2 .9-2 2v14c0 1.1.9 2 2 2h14c1.1 0 2-.9 2-2V5c0-1.1-.9-2-2-2zM9 17H7v-7h2v7zm4 0h-2V7h2v10zm4 0h-2v-4h2v4z\"/>\n",
              "    </g>\n",
              "</svg>\n",
              "  </button>\n",
              "\n",
              "<style>\n",
              "  .colab-df-quickchart {\n",
              "      --bg-color: #E8F0FE;\n",
              "      --fill-color: #1967D2;\n",
              "      --hover-bg-color: #E2EBFA;\n",
              "      --hover-fill-color: #174EA6;\n",
              "      --disabled-fill-color: #AAA;\n",
              "      --disabled-bg-color: #DDD;\n",
              "  }\n",
              "\n",
              "  [theme=dark] .colab-df-quickchart {\n",
              "      --bg-color: #3B4455;\n",
              "      --fill-color: #D2E3FC;\n",
              "      --hover-bg-color: #434B5C;\n",
              "      --hover-fill-color: #FFFFFF;\n",
              "      --disabled-bg-color: #3B4455;\n",
              "      --disabled-fill-color: #666;\n",
              "  }\n",
              "\n",
              "  .colab-df-quickchart {\n",
              "    background-color: var(--bg-color);\n",
              "    border: none;\n",
              "    border-radius: 50%;\n",
              "    cursor: pointer;\n",
              "    display: none;\n",
              "    fill: var(--fill-color);\n",
              "    height: 32px;\n",
              "    padding: 0;\n",
              "    width: 32px;\n",
              "  }\n",
              "\n",
              "  .colab-df-quickchart:hover {\n",
              "    background-color: var(--hover-bg-color);\n",
              "    box-shadow: 0 1px 2px rgba(60, 64, 67, 0.3), 0 1px 3px 1px rgba(60, 64, 67, 0.15);\n",
              "    fill: var(--button-hover-fill-color);\n",
              "  }\n",
              "\n",
              "  .colab-df-quickchart-complete:disabled,\n",
              "  .colab-df-quickchart-complete:disabled:hover {\n",
              "    background-color: var(--disabled-bg-color);\n",
              "    fill: var(--disabled-fill-color);\n",
              "    box-shadow: none;\n",
              "  }\n",
              "\n",
              "  .colab-df-spinner {\n",
              "    border: 2px solid var(--fill-color);\n",
              "    border-color: transparent;\n",
              "    border-bottom-color: var(--fill-color);\n",
              "    animation:\n",
              "      spin 1s steps(1) infinite;\n",
              "  }\n",
              "\n",
              "  @keyframes spin {\n",
              "    0% {\n",
              "      border-color: transparent;\n",
              "      border-bottom-color: var(--fill-color);\n",
              "      border-left-color: var(--fill-color);\n",
              "    }\n",
              "    20% {\n",
              "      border-color: transparent;\n",
              "      border-left-color: var(--fill-color);\n",
              "      border-top-color: var(--fill-color);\n",
              "    }\n",
              "    30% {\n",
              "      border-color: transparent;\n",
              "      border-left-color: var(--fill-color);\n",
              "      border-top-color: var(--fill-color);\n",
              "      border-right-color: var(--fill-color);\n",
              "    }\n",
              "    40% {\n",
              "      border-color: transparent;\n",
              "      border-right-color: var(--fill-color);\n",
              "      border-top-color: var(--fill-color);\n",
              "    }\n",
              "    60% {\n",
              "      border-color: transparent;\n",
              "      border-right-color: var(--fill-color);\n",
              "    }\n",
              "    80% {\n",
              "      border-color: transparent;\n",
              "      border-right-color: var(--fill-color);\n",
              "      border-bottom-color: var(--fill-color);\n",
              "    }\n",
              "    90% {\n",
              "      border-color: transparent;\n",
              "      border-bottom-color: var(--fill-color);\n",
              "    }\n",
              "  }\n",
              "</style>\n",
              "\n",
              "  <script>\n",
              "    async function quickchart(key) {\n",
              "      const quickchartButtonEl =\n",
              "        document.querySelector('#' + key + ' button');\n",
              "      quickchartButtonEl.disabled = true;  // To prevent multiple clicks.\n",
              "      quickchartButtonEl.classList.add('colab-df-spinner');\n",
              "      try {\n",
              "        const charts = await google.colab.kernel.invokeFunction(\n",
              "            'suggestCharts', [key], {});\n",
              "      } catch (error) {\n",
              "        console.error('Error during call to suggestCharts:', error);\n",
              "      }\n",
              "      quickchartButtonEl.classList.remove('colab-df-spinner');\n",
              "      quickchartButtonEl.classList.add('colab-df-quickchart-complete');\n",
              "    }\n",
              "    (() => {\n",
              "      let quickchartButtonEl =\n",
              "        document.querySelector('#df-a58f8bae-f5b2-460d-af59-9ea15b8be058 button');\n",
              "      quickchartButtonEl.style.display =\n",
              "        google.colab.kernel.accessAllowed ? 'block' : 'none';\n",
              "    })();\n",
              "  </script>\n",
              "</div>\n",
              "\n",
              "  <div id=\"id_7d76a79e-8d6e-4a5d-a829-4f3a31db68f9\">\n",
              "    <style>\n",
              "      .colab-df-generate {\n",
              "        background-color: #E8F0FE;\n",
              "        border: none;\n",
              "        border-radius: 50%;\n",
              "        cursor: pointer;\n",
              "        display: none;\n",
              "        fill: #1967D2;\n",
              "        height: 32px;\n",
              "        padding: 0 0 0 0;\n",
              "        width: 32px;\n",
              "      }\n",
              "\n",
              "      .colab-df-generate:hover {\n",
              "        background-color: #E2EBFA;\n",
              "        box-shadow: 0px 1px 2px rgba(60, 64, 67, 0.3), 0px 1px 3px 1px rgba(60, 64, 67, 0.15);\n",
              "        fill: #174EA6;\n",
              "      }\n",
              "\n",
              "      [theme=dark] .colab-df-generate {\n",
              "        background-color: #3B4455;\n",
              "        fill: #D2E3FC;\n",
              "      }\n",
              "\n",
              "      [theme=dark] .colab-df-generate:hover {\n",
              "        background-color: #434B5C;\n",
              "        box-shadow: 0px 1px 3px 1px rgba(0, 0, 0, 0.15);\n",
              "        filter: drop-shadow(0px 1px 2px rgba(0, 0, 0, 0.3));\n",
              "        fill: #FFFFFF;\n",
              "      }\n",
              "    </style>\n",
              "    <button class=\"colab-df-generate\" onclick=\"generateWithVariable('order_value_location')\"\n",
              "            title=\"Generate code using this dataframe.\"\n",
              "            style=\"display:none;\">\n",
              "\n",
              "  <svg xmlns=\"http://www.w3.org/2000/svg\" height=\"24px\"viewBox=\"0 0 24 24\"\n",
              "       width=\"24px\">\n",
              "    <path d=\"M7,19H8.4L18.45,9,17,7.55,7,17.6ZM5,21V16.75L18.45,3.32a2,2,0,0,1,2.83,0l1.4,1.43a1.91,1.91,0,0,1,.58,1.4,1.91,1.91,0,0,1-.58,1.4L9.25,21ZM18.45,9,17,7.55Zm-12,3A5.31,5.31,0,0,0,4.9,8.1,5.31,5.31,0,0,0,1,6.5,5.31,5.31,0,0,0,4.9,4.9,5.31,5.31,0,0,0,6.5,1,5.31,5.31,0,0,0,8.1,4.9,5.31,5.31,0,0,0,12,6.5,5.46,5.46,0,0,0,6.5,12Z\"/>\n",
              "  </svg>\n",
              "    </button>\n",
              "    <script>\n",
              "      (() => {\n",
              "      const buttonEl =\n",
              "        document.querySelector('#id_7d76a79e-8d6e-4a5d-a829-4f3a31db68f9 button.colab-df-generate');\n",
              "      buttonEl.style.display =\n",
              "        google.colab.kernel.accessAllowed ? 'block' : 'none';\n",
              "\n",
              "      buttonEl.onclick = () => {\n",
              "        google.colab.notebook.generateWithVariable('order_value_location');\n",
              "      }\n",
              "      })();\n",
              "    </script>\n",
              "  </div>\n",
              "\n",
              "    </div>\n",
              "  </div>\n"
            ],
            "application/vnd.google.colaboratory.intrinsic+json": {
              "type": "dataframe",
              "variable_name": "order_value_location",
              "summary": "{\n  \"name\": \"order_value_location\",\n  \"rows\": 5,\n  \"fields\": [\n    {\n      \"column\": \"Location\",\n      \"properties\": {\n        \"dtype\": \"string\",\n        \"num_unique_values\": 5,\n        \"samples\": [\n          \"Chicago\",\n          \"Washington DC\",\n          \"New Jersey\"\n        ],\n        \"semantic_type\": \"\",\n        \"description\": \"\"\n      }\n    },\n    {\n      \"column\": \"Average_Order_Value\",\n      \"properties\": {\n        \"dtype\": \"number\",\n        \"std\": 3.5961393732090157,\n        \"min\": 83.86490915600108,\n        \"max\": 93.620878477306,\n        \"num_unique_values\": 5,\n        \"samples\": [\n          88.45949836779108,\n          93.620878477306,\n          90.97642904730179\n        ],\n        \"semantic_type\": \"\",\n        \"description\": \"\"\n      }\n    }\n  ]\n}"
            }
          },
          "metadata": {},
          "execution_count": 38
        }
      ]
    },
    {
      "cell_type": "code",
      "source": [
        "order_value_location.plot(x='Location', y='Average_Order_Value', kind='line', figsize=(8, 4), title='Average_Order_Value')\n",
        "plt.gca().spines[['top', 'right']].set_visible(False)\n",
        "\n",
        "plt.xticks(rotation=45)\n",
        "plt.tight_layout()\n",
        "plt.show()"
      ],
      "metadata": {
        "colab": {
          "base_uri": "https://localhost:8080/",
          "height": 407
        },
        "id": "bBuKZb_ppAvx",
        "outputId": "9a61d579-6841-4d57-d959-b1a209bad969"
      },
      "execution_count": null,
      "outputs": [
        {
          "output_type": "display_data",
          "data": {
            "text/plain": [
              "<Figure size 800x400 with 1 Axes>"
            ],
            "image/png": "[encoded data removed]"
          },
          "metadata": {}
        }
      ]
    },
    {
      "cell_type": "markdown",
      "source": [
        "## Tenure Segment vs. Purchase Frequency\n",
        "\n",
        "H₀: Customers with low tenure (e.g., < 6 months) have no difference in purchase frequency compared to customers with high tenure (e.g.,\n",
        "≥\n",
        "6\n",
        "≥6 months).\n",
        "\n",
        "H₁: There is a difference in purchase frequency between low-tenure and high-tenure customers."
      ],
      "metadata": {
        "id": "j4R6U1CGhFw9"
      }
    },
    {
      "cell_type": "code",
      "source": [
        "# Merge the data to have customer tenure and their respective purchases\n",
        "cust_sales = online_sale.merge(cust_data[['CustomerID', 'Tenure_Months']], on='CustomerID', how='left')\n"
      ],
      "metadata": {
        "id": "RfBUbiPZiNR0"
      },
      "execution_count": null,
      "outputs": []
    },
    {
      "cell_type": "code",
      "source": [
        "\n",
        "# Create two groups based on tenure (low < 6 months and high >= 6 months)\n",
        "low_tenure = cust_sales[cust_sales['Tenure_Months'] < 6]\n",
        "high_tenure = cust_sales[cust_sales['Tenure_Months'] >= 6]\n",
        "\n",
        "# Calculate purchase frequency (number of transactions) for each customer\n",
        "low_tenure_freq = low_tenure.groupby('CustomerID').size()\n",
        "high_tenure_freq = high_tenure.groupby('CustomerID').size()\n"
      ],
      "metadata": {
        "id": "rVyS4oupiNLd"
      },
      "execution_count": null,
      "outputs": []
    },
    {
      "cell_type": "code",
      "source": [
        "import scipy.stats as stats\n",
        "\n",
        "# Perform an independent two-sample t-test to compare purchase frequencies\n",
        "t_stat, p_value = stats.ttest_ind(low_tenure_freq, high_tenure_freq)\n",
        "\n",
        "# Output the results\n",
        "print(f\"T-statistic: {t_stat}\")\n",
        "print(f\"P-value: {p_value}\")\n"
      ],
      "metadata": {
        "colab": {
          "base_uri": "https://localhost:8080/"
        },
        "id": "h4xqyhdniNJG",
        "outputId": "6046bd35-a6f0-49b6-f304-3186a8dcd940"
      },
      "execution_count": null,
      "outputs": [
        {
          "output_type": "stream",
          "name": "stdout",
          "text": [
            "T-statistic: -0.6552548874825406\n",
            "P-value: 0.5124064648060558\n"
          ]
        }
      ]
    },
    {
      "cell_type": "code",
      "source": [
        "\n",
        "alpha = 0.05\n",
        "if p_value < alpha:\n",
        "    print(\"Reject H₀: There is a significant difference in purchase frequency between low-tenure and high-tenure customers.\")\n",
        "else:\n",
        "    print(\"Fail to reject H₀: There is no significant difference in purchase frequency between low-tenure and high-tenure customers.\")"
      ],
      "metadata": {
        "colab": {
          "base_uri": "https://localhost:8080/"
        },
        "id": "q_KuyEBAiNGX",
        "outputId": "889ca72e-7251-4bc8-da48-405172a311fe"
      },
      "execution_count": null,
      "outputs": [
        {
          "output_type": "stream",
          "name": "stdout",
          "text": [
            "Fail to reject H₀: There is no significant difference in purchase frequency between low-tenure and high-tenure customers.\n"
          ]
        }
      ]
    },
    {
      "cell_type": "code",
      "source": [
        "purchase_freq = pd.DataFrame({\n",
        "    'Tenure Group': ['Low Tenure'] * len(low_tenure_freq) + ['High Tenure'] * len(high_tenure_freq),\n",
        "    'Purchase Frequency': list(low_tenure_freq) + list(high_tenure_freq)\n",
        "})\n",
        "\n",
        "#boxplot\n",
        "plt.figure(figsize=(8, 6))\n",
        "sns.boxplot(data=purchase_freq, x='Tenure Group', y='Purchase Frequency', palette=\"Set2\")\n",
        "plt.title('Comparison of Purchase Frequency Between Low and High Tenure Customers', fontsize=16)\n",
        "plt.xlabel('Tenure Group', fontsize=14)\n",
        "plt.ylabel('Purchase Frequency (Number of Transactions)', fontsize=14)\n",
        "plt.tight_layout()\n",
        "plt.show()"
      ],
      "metadata": {
        "colab": {
          "base_uri": "https://localhost:8080/",
          "height": 694
        },
        "id": "xyx8UMWFiNDj",
        "outputId": "596b705a-586b-46ce-bcd6-36a8e5657803"
      },
      "execution_count": null,
      "outputs": [
        {
          "output_type": "stream",
          "name": "stderr",
          "text": [
            "<ipython-input-44-f8f3a0a28d66>:8: FutureWarning: \n",
            "\n",
            "Passing `palette` without assigning `hue` is deprecated and will be removed in v0.14.0. Assign the `x` variable to `hue` and set `legend=False` for the same effect.\n",
            "\n",
            "  sns.boxplot(data=purchase_freq, x='Tenure Group', y='Purchase Frequency', palette=\"Set2\")\n"
          ]
        },
        {
          "output_type": "display_data",
          "data": {
            "text/plain": [
              "<Figure size 800x600 with 1 Axes>"
            ],
            "image/png": "[encoded data removed]"
          },
          "metadata": {}
        }
      ]
    },
    {
      "cell_type": "markdown",
      "source": [
        "we we can clearly see that definetly there are a lot more instances of higher purchase frequency for high tenure"
      ],
      "metadata": {
        "id": "e9nd8GrNA1np"
      }
    },
    {
      "cell_type": "markdown",
      "source": [
        "lets try to normalise to get a correct view of count\n",
        "\n",
        "Purchase Frequency=\n",
        "Tenure (in months)/\n",
        "Total Transactions\n",
        "​\n",
        "\n"
      ],
      "metadata": {
        "id": "M9PcZsm9NuaN"
      }
    },
    {
      "cell_type": "code",
      "source": [
        "# Calculate the total number of transactions for each customer\n",
        "customer_transactions = cust_sales.groupby('CustomerID').size().reset_index(name='Total_Transactions')\n",
        "\n",
        "# Merge the transactions count back with customer tenure\n",
        "customer_transactions = customer_transactions.merge(cust_data[['CustomerID', 'Tenure_Months']], on='CustomerID', how='left')\n",
        "\n",
        "# Normalize purchase frequency (transactions per month)\n",
        "customer_transactions['Purchase_Frequency'] = customer_transactions['Total_Transactions'] / customer_transactions['Tenure_Months']\n"
      ],
      "metadata": {
        "id": "ab6Q5kktiNBJ"
      },
      "execution_count": null,
      "outputs": []
    },
    {
      "cell_type": "code",
      "source": [
        "customer_transactions['Purchase_Frequency'].describe()"
      ],
      "metadata": {
        "colab": {
          "base_uri": "https://localhost:8080/",
          "height": 335
        },
        "id": "tyTmuRICOVfa",
        "outputId": "019df9e4-96d7-4060-98f3-dfa02251d23f"
      },
      "execution_count": null,
      "outputs": [
        {
          "output_type": "execute_result",
          "data": {
            "text/plain": [
              "count    1468.000000\n",
              "mean        2.385220\n",
              "std         4.659608\n",
              "min         0.020000\n",
              "25%         0.377778\n",
              "50%         0.970833\n",
              "75%         2.407502\n",
              "max        63.000000\n",
              "Name: Purchase_Frequency, dtype: float64"
            ],
            "text/html": [
              "<div>\n",
              "<style scoped>\n",
              "    .dataframe tbody tr th:only-of-type {\n",
              "        vertical-align: middle;\n",
              "    }\n",
              "\n",
              "    .dataframe tbody tr th {\n",
              "        vertical-align: top;\n",
              "    }\n",
              "\n",
              "    .dataframe thead th {\n",
              "        text-align: right;\n",
              "    }\n",
              "</style>\n",
              "<table border=\"1\" class=\"dataframe\">\n",
              "  <thead>\n",
              "    <tr style=\"text-align: right;\">\n",
              "      <th></th>\n",
              "      <th>Purchase_Frequency</th>\n",
              "    </tr>\n",
              "  </thead>\n",
              "  <tbody>\n",
              "    <tr>\n",
              "      <th>count</th>\n",
              "      <td>1468.000000</td>\n",
              "    </tr>\n",
              "    <tr>\n",
              "      <th>mean</th>\n",
              "      <td>2.385220</td>\n",
              "    </tr>\n",
              "    <tr>\n",
              "      <th>std</th>\n",
              "      <td>4.659608</td>\n",
              "    </tr>\n",
              "    <tr>\n",
              "      <th>min</th>\n",
              "      <td>0.020000</td>\n",
              "    </tr>\n",
              "    <tr>\n",
              "      <th>25%</th>\n",
              "      <td>0.377778</td>\n",
              "    </tr>\n",
              "    <tr>\n",
              "      <th>50%</th>\n",
              "      <td>0.970833</td>\n",
              "    </tr>\n",
              "    <tr>\n",
              "      <th>75%</th>\n",
              "      <td>2.407502</td>\n",
              "    </tr>\n",
              "    <tr>\n",
              "      <th>max</th>\n",
              "      <td>63.000000</td>\n",
              "    </tr>\n",
              "  </tbody>\n",
              "</table>\n",
              "</div><br><label><b>dtype:</b> float64</label>"
            ]
          },
          "metadata": {},
          "execution_count": 53
        }
      ]
    },
    {
      "cell_type": "code",
      "source": [
        "# Split customers into low-tenure (<6 months) and high-tenure (>=6 months) groups\n",
        "low_tenure_freq = customer_transactions[customer_transactions['Tenure_Months'] < 6]['Purchase_Frequency']\n",
        "high_tenure_freq = customer_transactions[customer_transactions['Tenure_Months'] >= 6]['Purchase_Frequency']\n",
        "\n",
        "t_stat, p_value = stats.ttest_ind(low_tenure_freq, high_tenure_freq, equal_var=False)\n",
        "\n",
        "print(f\"T-statistic: {t_stat}\")\n",
        "print(f\"P-value: {p_value}\")"
      ],
      "metadata": {
        "colab": {
          "base_uri": "https://localhost:8080/"
        },
        "id": "fgsoYWdGiM-U",
        "outputId": "fc23620f-ec1b-4688-ee52-a1f5a2dba4bc"
      },
      "execution_count": null,
      "outputs": [
        {
          "output_type": "stream",
          "name": "stdout",
          "text": [
            "T-statistic: 7.43025929586989\n",
            "P-value: 1.910418967664428e-11\n"
          ]
        }
      ]
    },
    {
      "cell_type": "code",
      "source": [
        "if p_value < 0.05:\n",
        "    print(\"Reject H₀: There is a significant difference in normalized purchase frequency between low-tenure and high-tenure customers.\")\n",
        "else:\n",
        "    print(\"Fail to reject H₀: There is no significant difference in normalized purchase frequency between low-tenure and high-tenure customers.\")"
      ],
      "metadata": {
        "colab": {
          "base_uri": "https://localhost:8080/"
        },
        "id": "RlufPQFhN6ab",
        "outputId": "aa93ee97-8d16-4ade-adb9-d2de7280d699"
      },
      "execution_count": null,
      "outputs": [
        {
          "output_type": "stream",
          "name": "stdout",
          "text": [
            "Reject H₀: There is a significant difference in normalized purchase frequency between low-tenure and high-tenure customers.\n"
          ]
        }
      ]
    },
    {
      "cell_type": "code",
      "source": [
        "normalized_freq = pd.DataFrame({\n",
        "    'Tenure Group': ['Low Tenure'] * len(low_tenure_freq) + ['High Tenure'] * len(high_tenure_freq),\n",
        "    'Normalized Purchase Frequency': list(low_tenure_freq) + list(high_tenure_freq)\n",
        "})\n",
        "\n",
        "plt.figure(figsize=(8, 6))\n",
        "sns.boxplot(data=normalized_freq, x='Tenure Group', y='Normalized Purchase Frequency', palette=\"Set2\")\n",
        "plt.title('Comparison of Normalized Purchase Frequency Between Low and High Tenure Customers', fontsize=16)\n",
        "plt.xlabel('Tenure Group', fontsize=14)\n",
        "plt.ylabel('Normalized Purchase Frequency (Transactions per Month)', fontsize=14)\n",
        "plt.tight_layout()\n",
        "plt.show()"
      ],
      "metadata": {
        "colab": {
          "base_uri": "https://localhost:8080/",
          "height": 694
        },
        "id": "y6j_YNJCOC3g",
        "outputId": "013fe765-2608-47d4-9712-8f14418b0f93"
      },
      "execution_count": null,
      "outputs": [
        {
          "output_type": "stream",
          "name": "stderr",
          "text": [
            "<ipython-input-49-ff8222261e17>:8: FutureWarning: \n",
            "\n",
            "Passing `palette` without assigning `hue` is deprecated and will be removed in v0.14.0. Assign the `x` variable to `hue` and set `legend=False` for the same effect.\n",
            "\n",
            "  sns.boxplot(data=normalized_freq, x='Tenure Group', y='Normalized Purchase Frequency', palette=\"Set2\")\n"
          ]
        },
        {
          "output_type": "display_data",
          "data": {
            "text/plain": [
              "<Figure size 800x600 with 1 Axes>"
            ],
            "image/png": "[encoded data removed]"
          },
          "metadata": {}
        }
      ]
    },
    {
      "cell_type": "markdown",
      "source": [
        "## Effect of Delivery Charges on Purchase Volume\n",
        "\n",
        "H₀: Paying higher delivery charges does not affect the quantity ordered (i.e., no difference in quantity between orders with high vs. low delivery charges).\n",
        "\n",
        "H₁: Higher delivery charges do affect quantity ordered (people might buy more in one go to offset shipping, or might buy less)."
      ],
      "metadata": {
        "id": "pZXPyytgRbtM"
      }
    },
    {
      "cell_type": "code",
      "source": [
        "online_sale[['Delivery_Charges','Quantity']].describe()"
      ],
      "metadata": {
        "colab": {
          "base_uri": "https://localhost:8080/",
          "height": 300
        },
        "id": "6273FuZLT97a",
        "outputId": "8b9f44d4-7e2f-468c-e383-b9379246e7b7"
      },
      "execution_count": null,
      "outputs": [
        {
          "output_type": "execute_result",
          "data": {
            "text/plain": [
              "       Delivery_Charges      Quantity\n",
              "count      52924.000000  52924.000000\n",
              "mean          10.517630      4.497638\n",
              "std           19.475613     20.104711\n",
              "min            0.000000      1.000000\n",
              "25%            6.000000      1.000000\n",
              "50%            6.000000      1.000000\n",
              "75%            6.500000      2.000000\n",
              "max          521.360000    900.000000"
            ],
            "text/html": [
              "\n",
              "  <div id=\"df-3d823bec-fd5f-4c6e-827e-1a8e94f8a05a\" class=\"colab-df-container\">\n",
              "    <div>\n",
              "<style scoped>\n",
              "    .dataframe tbody tr th:only-of-type {\n",
              "        vertical-align: middle;\n",
              "    }\n",
              "\n",
              "    .dataframe tbody tr th {\n",
              "        vertical-align: top;\n",
              "    }\n",
              "\n",
              "    .dataframe thead th {\n",
              "        text-align: right;\n",
              "    }\n",
              "</style>\n",
              "<table border=\"1\" class=\"dataframe\">\n",
              "  <thead>\n",
              "    <tr style=\"text-align: right;\">\n",
              "      <th></th>\n",
              "      <th>Delivery_Charges</th>\n",
              "      <th>Quantity</th>\n",
              "    </tr>\n",
              "  </thead>\n",
              "  <tbody>\n",
              "    <tr>\n",
              "      <th>count</th>\n",
              "      <td>52924.000000</td>\n",
              "      <td>52924.000000</td>\n",
              "    </tr>\n",
              "    <tr>\n",
              "      <th>mean</th>\n",
              "      <td>10.517630</td>\n",
              "      <td>4.497638</td>\n",
              "    </tr>\n",
              "    <tr>\n",
              "      <th>std</th>\n",
              "      <td>19.475613</td>\n",
              "      <td>20.104711</td>\n",
              "    </tr>\n",
              "    <tr>\n",
              "      <th>min</th>\n",
              "      <td>0.000000</td>\n",
              "      <td>1.000000</td>\n",
              "    </tr>\n",
              "    <tr>\n",
              "      <th>25%</th>\n",
              "      <td>6.000000</td>\n",
              "      <td>1.000000</td>\n",
              "    </tr>\n",
              "    <tr>\n",
              "      <th>50%</th>\n",
              "      <td>6.000000</td>\n",
              "      <td>1.000000</td>\n",
              "    </tr>\n",
              "    <tr>\n",
              "      <th>75%</th>\n",
              "      <td>6.500000</td>\n",
              "      <td>2.000000</td>\n",
              "    </tr>\n",
              "    <tr>\n",
              "      <th>max</th>\n",
              "      <td>521.360000</td>\n",
              "      <td>900.000000</td>\n",
              "    </tr>\n",
              "  </tbody>\n",
              "</table>\n",
              "</div>\n",
              "    <div class=\"colab-df-buttons\">\n",
              "\n",
              "  <div class=\"colab-df-container\">\n",
              "    <button class=\"colab-df-convert\" onclick=\"convertToInteractive('df-3d823bec-fd5f-4c6e-827e-1a8e94f8a05a')\"\n",
              "            title=\"Convert this dataframe to an interactive table.\"\n",
              "            style=\"display:none;\">\n",
              "\n",
              "  <svg xmlns=\"http://www.w3.org/2000/svg\" height=\"24px\" viewBox=\"0 -960 960 960\">\n",
              "    <path d=\"M120-120v-720h720v720H120Zm60-500h600v-160H180v160Zm220 220h160v-160H400v160Zm0 220h160v-160H400v160ZM180-400h160v-160H180v160Zm440 0h160v-160H620v160ZM180-180h160v-160H180v160Zm440 0h160v-160H620v160Z\"/>\n",
              "  </svg>\n",
              "    </button>\n",
              "\n",
              "  <style>\n",
              "    .colab-df-container {\n",
              "      display:flex;\n",
              "      gap: 12px;\n",
              "    }\n",
              "\n",
              "    .colab-df-convert {\n",
              "      background-color: #E8F0FE;\n",
              "      border: none;\n",
              "      border-radius: 50%;\n",
              "      cursor: pointer;\n",
              "      display: none;\n",
              "      fill: #1967D2;\n",
              "      height: 32px;\n",
              "      padding: 0 0 0 0;\n",
              "      width: 32px;\n",
              "    }\n",
              "\n",
              "    .colab-df-convert:hover {\n",
              "      background-color: #E2EBFA;\n",
              "      box-shadow: 0px 1px 2px rgba(60, 64, 67, 0.3), 0px 1px 3px 1px rgba(60, 64, 67, 0.15);\n",
              "      fill: #174EA6;\n",
              "    }\n",
              "\n",
              "    .colab-df-buttons div {\n",
              "      margin-bottom: 4px;\n",
              "    }\n",
              "\n",
              "    [theme=dark] .colab-df-convert {\n",
              "      background-color: #3B4455;\n",
              "      fill: #D2E3FC;\n",
              "    }\n",
              "\n",
              "    [theme=dark] .colab-df-convert:hover {\n",
              "      background-color: #434B5C;\n",
              "      box-shadow: 0px 1px 3px 1px rgba(0, 0, 0, 0.15);\n",
              "      filter: drop-shadow(0px 1px 2px rgba(0, 0, 0, 0.3));\n",
              "      fill: #FFFFFF;\n",
              "    }\n",
              "  </style>\n",
              "\n",
              "    <script>\n",
              "      const buttonEl =\n",
              "        document.querySelector('#df-3d823bec-fd5f-4c6e-827e-1a8e94f8a05a button.colab-df-convert');\n",
              "      buttonEl.style.display =\n",
              "        google.colab.kernel.accessAllowed ? 'block' : 'none';\n",
              "\n",
              "      async function convertToInteractive(key) {\n",
              "        const element = document.querySelector('#df-3d823bec-fd5f-4c6e-827e-1a8e94f8a05a');\n",
              "        const dataTable =\n",
              "          await google.colab.kernel.invokeFunction('convertToInteractive',\n",
              "                                                    [key], {});\n",
              "        if (!dataTable) return;\n",
              "\n",
              "        const docLinkHtml = 'Like what you see? Visit the ' +\n",
              "          '<a target=\"_blank\" href=https://colab.research.google.com/notebooks/data_table.ipynb>data table notebook</a>'\n",
              "          + ' to learn more about interactive tables.';\n",
              "        element.innerHTML = '';\n",
              "        dataTable['output_type'] = 'display_data';\n",
              "        await google.colab.output.renderOutput(dataTable, element);\n",
              "        const docLink = document.createElement('div');\n",
              "        docLink.innerHTML = docLinkHtml;\n",
              "        element.appendChild(docLink);\n",
              "      }\n",
              "    </script>\n",
              "  </div>\n",
              "\n",
              "\n",
              "<div id=\"df-2ca681d2-49c0-442c-9be0-fc35ede10c40\">\n",
              "  <button class=\"colab-df-quickchart\" onclick=\"quickchart('df-2ca681d2-49c0-442c-9be0-fc35ede10c40')\"\n",
              "            title=\"Suggest charts\"\n",
              "            style=\"display:none;\">\n",
              "\n",
              "<svg xmlns=\"http://www.w3.org/2000/svg\" height=\"24px\"viewBox=\"0 0 24 24\"\n",
              "     width=\"24px\">\n",
              "    <g>\n",
              "        <path d=\"M19 3H5c-1.1 0-2 .9-2 2v14c0 1.1.9 2 2 2h14c1.1 0 2-.9 2-2V5c0-1.1-.9-2-2-2zM9 17H7v-7h2v7zm4 0h-2V7h2v10zm4 0h-2v-4h2v4z\"/>\n",
              "    </g>\n",
              "</svg>\n",
              "  </button>\n",
              "\n",
              "<style>\n",
              "  .colab-df-quickchart {\n",
              "      --bg-color: #E8F0FE;\n",
              "      --fill-color: #1967D2;\n",
              "      --hover-bg-color: #E2EBFA;\n",
              "      --hover-fill-color: #174EA6;\n",
              "      --disabled-fill-color: #AAA;\n",
              "      --disabled-bg-color: #DDD;\n",
              "  }\n",
              "\n",
              "  [theme=dark] .colab-df-quickchart {\n",
              "      --bg-color: #3B4455;\n",
              "      --fill-color: #D2E3FC;\n",
              "      --hover-bg-color: #434B5C;\n",
              "      --hover-fill-color: #FFFFFF;\n",
              "      --disabled-bg-color: #3B4455;\n",
              "      --disabled-fill-color: #666;\n",
              "  }\n",
              "\n",
              "  .colab-df-quickchart {\n",
              "    background-color: var(--bg-color);\n",
              "    border: none;\n",
              "    border-radius: 50%;\n",
              "    cursor: pointer;\n",
              "    display: none;\n",
              "    fill: var(--fill-color);\n",
              "    height: 32px;\n",
              "    padding: 0;\n",
              "    width: 32px;\n",
              "  }\n",
              "\n",
              "  .colab-df-quickchart:hover {\n",
              "    background-color: var(--hover-bg-color);\n",
              "    box-shadow: 0 1px 2px rgba(60, 64, 67, 0.3), 0 1px 3px 1px rgba(60, 64, 67, 0.15);\n",
              "    fill: var(--button-hover-fill-color);\n",
              "  }\n",
              "\n",
              "  .colab-df-quickchart-complete:disabled,\n",
              "  .colab-df-quickchart-complete:disabled:hover {\n",
              "    background-color: var(--disabled-bg-color);\n",
              "    fill: var(--disabled-fill-color);\n",
              "    box-shadow: none;\n",
              "  }\n",
              "\n",
              "  .colab-df-spinner {\n",
              "    border: 2px solid var(--fill-color);\n",
              "    border-color: transparent;\n",
              "    border-bottom-color: var(--fill-color);\n",
              "    animation:\n",
              "      spin 1s steps(1) infinite;\n",
              "  }\n",
              "\n",
              "  @keyframes spin {\n",
              "    0% {\n",
              "      border-color: transparent;\n",
              "      border-bottom-color: var(--fill-color);\n",
              "      border-left-color: var(--fill-color);\n",
              "    }\n",
              "    20% {\n",
              "      border-color: transparent;\n",
              "      border-left-color: var(--fill-color);\n",
              "      border-top-color: var(--fill-color);\n",
              "    }\n",
              "    30% {\n",
              "      border-color: transparent;\n",
              "      border-left-color: var(--fill-color);\n",
              "      border-top-color: var(--fill-color);\n",
              "      border-right-color: var(--fill-color);\n",
              "    }\n",
              "    40% {\n",
              "      border-color: transparent;\n",
              "      border-right-color: var(--fill-color);\n",
              "      border-top-color: var(--fill-color);\n",
              "    }\n",
              "    60% {\n",
              "      border-color: transparent;\n",
              "      border-right-color: var(--fill-color);\n",
              "    }\n",
              "    80% {\n",
              "      border-color: transparent;\n",
              "      border-right-color: var(--fill-color);\n",
              "      border-bottom-color: var(--fill-color);\n",
              "    }\n",
              "    90% {\n",
              "      border-color: transparent;\n",
              "      border-bottom-color: var(--fill-color);\n",
              "    }\n",
              "  }\n",
              "</style>\n",
              "\n",
              "  <script>\n",
              "    async function quickchart(key) {\n",
              "      const quickchartButtonEl =\n",
              "        document.querySelector('#' + key + ' button');\n",
              "      quickchartButtonEl.disabled = true;  // To prevent multiple clicks.\n",
              "      quickchartButtonEl.classList.add('colab-df-spinner');\n",
              "      try {\n",
              "        const charts = await google.colab.kernel.invokeFunction(\n",
              "            'suggestCharts', [key], {});\n",
              "      } catch (error) {\n",
              "        console.error('Error during call to suggestCharts:', error);\n",
              "      }\n",
              "      quickchartButtonEl.classList.remove('colab-df-spinner');\n",
              "      quickchartButtonEl.classList.add('colab-df-quickchart-complete');\n",
              "    }\n",
              "    (() => {\n",
              "      let quickchartButtonEl =\n",
              "        document.querySelector('#df-2ca681d2-49c0-442c-9be0-fc35ede10c40 button');\n",
              "      quickchartButtonEl.style.display =\n",
              "        google.colab.kernel.accessAllowed ? 'block' : 'none';\n",
              "    })();\n",
              "  </script>\n",
              "</div>\n",
              "\n",
              "    </div>\n",
              "  </div>\n"
            ],
            "application/vnd.google.colaboratory.intrinsic+json": {
              "type": "dataframe",
              "summary": "{\n  \"name\": \"online_sale[['Delivery_Charges','Quantity']]\",\n  \"rows\": 8,\n  \"fields\": [\n    {\n      \"column\": \"Delivery_Charges\",\n      \"properties\": {\n        \"dtype\": \"number\",\n        \"std\": 18683.541858176308,\n        \"min\": 0.0,\n        \"max\": 52924.0,\n        \"num_unique_values\": 7,\n        \"samples\": [\n          52924.0,\n          10.517630375632983,\n          6.5\n        ],\n        \"semantic_type\": \"\",\n        \"description\": \"\"\n      }\n    },\n    {\n      \"column\": \"Quantity\",\n      \"properties\": {\n        \"dtype\": \"number\",\n        \"std\": 18667.136503504666,\n        \"min\": 1.0,\n        \"max\": 52924.0,\n        \"num_unique_values\": 6,\n        \"samples\": [\n          52924.0,\n          4.497638122590885,\n          900.0\n        ],\n        \"semantic_type\": \"\",\n        \"description\": \"\"\n      }\n    }\n  ]\n}"
            }
          },
          "metadata": {},
          "execution_count": 58
        }
      ]
    },
    {
      "cell_type": "code",
      "source": [
        "# Define a threshold for \"low\" and \"high\" delivery charges via median\n",
        "delivery_charge_median = online_sale['Delivery_Charges'].median()\n",
        "\n",
        "# Create two groups based on delivery charges\n",
        "low_delivery = online_sale[online_sale['Delivery_Charges'] <= delivery_charge_median]['Quantity']\n",
        "high_delivery = online_sale[online_sale['Delivery_Charges'] > delivery_charge_median]['Quantity']\n"
      ],
      "metadata": {
        "id": "MExD8sI6OOKU"
      },
      "execution_count": null,
      "outputs": []
    },
    {
      "cell_type": "code",
      "source": [
        "# Perform an independent two-sample t-test\n",
        "t_stat, p_value = stats.ttest_ind(low_delivery, high_delivery, equal_var=False)\n",
        "\n",
        "# Output the results\n",
        "print(f\"T-statistic: {t_stat}\")\n",
        "print(f\"P-value: {p_value}\")"
      ],
      "metadata": {
        "colab": {
          "base_uri": "https://localhost:8080/"
        },
        "id": "A92n2DkVRxch",
        "outputId": "ae3ae1c0-8ee3-42ff-ec81-6f3fad467bc8"
      },
      "execution_count": null,
      "outputs": [
        {
          "output_type": "stream",
          "name": "stdout",
          "text": [
            "T-statistic: -17.70515091569968\n",
            "P-value: 6.769021741170138e-70\n"
          ]
        }
      ]
    },
    {
      "cell_type": "code",
      "source": [
        "if p_value < 0.05:\n",
        "    print(\"Reject H₀: Higher delivery charges do affect the quantity ordered.\")\n",
        "else:\n",
        "    print(\"Fail to reject H₀: Higher delivery charges do not affect the quantity ordered.\")\n"
      ],
      "metadata": {
        "colab": {
          "base_uri": "https://localhost:8080/"
        },
        "id": "ksDPIcCpR0Ow",
        "outputId": "70079596-1357-492d-cbb9-54898f8d614a"
      },
      "execution_count": null,
      "outputs": [
        {
          "output_type": "stream",
          "name": "stdout",
          "text": [
            "Reject H₀: Higher delivery charges do affect the quantity ordered.\n"
          ]
        }
      ]
    },
    {
      "cell_type": "markdown",
      "source": [
        "let us also check if that reflects in the overall bill amount as well"
      ],
      "metadata": {
        "id": "Cjto7dDbVmG1"
      }
    },
    {
      "cell_type": "code",
      "source": [
        "online_sale['Bill_Amount'] = (online_sale['Quantity'] * online_sale['Avg_Price']) + online_sale['Delivery_Charges']\n",
        "\n",
        "# Divide delivery charges into 3 groups: Low, Medium, High\n",
        "online_sale['Delivery_Group'] = pd.qcut(\n",
        "    online_sale['Delivery_Charges'],\n",
        "    q=3,\n",
        "    labels=[\"Low Delivery Charges\", \"Medium Delivery Charges\", \"High Delivery Charges\"]\n",
        ")"
      ],
      "metadata": {
        "id": "jTkLvTz3R7G3"
      },
      "execution_count": null,
      "outputs": []
    },
    {
      "cell_type": "markdown",
      "source": [
        "https://www.statology.org/pandas-qcut/"
      ],
      "metadata": {
        "id": "lwDC4azIV_1M"
      }
    },
    {
      "cell_type": "code",
      "source": [
        "low_group = online_sale[online_sale['Delivery_Group'] == \"Low Delivery Charges\"]['Bill_Amount']\n",
        "medium_group = online_sale[online_sale['Delivery_Group'] == \"Medium Delivery Charges\"]['Bill_Amount']\n",
        "high_group = online_sale[online_sale['Delivery_Group'] == \"High Delivery Charges\"]['Bill_Amount']\n"
      ],
      "metadata": {
        "id": "CcRfkzQxVx39"
      },
      "execution_count": null,
      "outputs": []
    },
    {
      "cell_type": "code",
      "source": [
        "f_stat, p_value = stats.f_oneway(low_group, medium_group, high_group)\n",
        "\n",
        "print(f\"F-statistic: {f_stat}\")\n",
        "print(f\"P-value: {p_value}\")"
      ],
      "metadata": {
        "colab": {
          "base_uri": "https://localhost:8080/"
        },
        "id": "cTQpuYQWWDO8",
        "outputId": "e8aa2e80-c0ff-45ff-f8eb-ae4f2477f91b"
      },
      "execution_count": null,
      "outputs": [
        {
          "output_type": "stream",
          "name": "stdout",
          "text": [
            "F-statistic: 256.07811634486166\n",
            "P-value: 2.09598152954417e-111\n"
          ]
        }
      ]
    },
    {
      "cell_type": "code",
      "source": [
        "if p_value < 0.05:\n",
        "    print(\"Reject H₀: There is a significant difference in bill amounts across delivery charge groups.\")\n",
        "else:\n",
        "    print(\"Fail to reject H₀: There is no significant difference in bill amounts across delivery charge groups.\")\n"
      ],
      "metadata": {
        "colab": {
          "base_uri": "https://localhost:8080/"
        },
        "id": "8gieWqZWWGC_",
        "outputId": "48b4ecc8-3ec3-4f78-d7bf-b7f3060d363d"
      },
      "execution_count": null,
      "outputs": [
        {
          "output_type": "stream",
          "name": "stdout",
          "text": [
            "Reject H₀: There is a significant difference in bill amounts across delivery charge groups.\n"
          ]
        }
      ]
    },
    {
      "cell_type": "code",
      "source": [
        "\n",
        "plt.figure(figsize=(8, 6))\n",
        "sns.boxplot(data=online_sale, x='Delivery_Group', y='Bill_Amount', palette=\"Set3\")\n",
        "plt.title('Comparison of Bill Amounts Across Delivery Charge Groups', fontsize=16)\n",
        "plt.xlabel('Delivery Charge Group', fontsize=14)\n",
        "plt.ylabel('Bill Amount', fontsize=14)\n",
        "plt.tight_layout()\n",
        "plt.show()"
      ],
      "metadata": {
        "colab": {
          "base_uri": "https://localhost:8080/",
          "height": 694
        },
        "id": "ALTDidPCWKjv",
        "outputId": "d8d8c246-098f-4d47-a54b-0b1b7f8cb421"
      },
      "execution_count": null,
      "outputs": [
        {
          "output_type": "stream",
          "name": "stderr",
          "text": [
            "<ipython-input-63-fa9b6c7f149f>:2: FutureWarning: \n",
            "\n",
            "Passing `palette` without assigning `hue` is deprecated and will be removed in v0.14.0. Assign the `x` variable to `hue` and set `legend=False` for the same effect.\n",
            "\n",
            "  sns.boxplot(data=online_sale, x='Delivery_Group', y='Bill_Amount', palette=\"Set3\")\n"
          ]
        },
        {
          "output_type": "display_data",
          "data": {
            "text/plain": [
              "<Figure size 800x600 with 1 Axes>"
            ],
            "image/png": "[encoded data removed]"
          },
          "metadata": {}
        }
      ]
    },
    {
      "cell_type": "markdown",
      "source": [
        "improve visibility"
      ],
      "metadata": {
        "id": "uTtYQ7NCWn-j"
      }
    },
    {
      "cell_type": "code",
      "source": [
        "plt.figure(figsize=(8, 6))\n",
        "sns.boxplot(data=online_sale, x='Delivery_Group', y='Bill_Amount', palette=\"Set3\")\n",
        "plt.yscale('log')  # Apply logarithmic scale\n",
        "plt.title('Comparison of Bill Amounts Across Delivery Charge Groups (Log Scale)', fontsize=16)\n",
        "plt.xlabel('Delivery Charge Group', fontsize=14)\n",
        "plt.ylabel('Bill Amount (Log Scale)', fontsize=14)\n",
        "plt.tight_layout()\n",
        "plt.show()"
      ],
      "metadata": {
        "colab": {
          "base_uri": "https://localhost:8080/",
          "height": 694
        },
        "id": "F9N54014WLqH",
        "outputId": "6932f7c1-8f0f-48a8-b0f0-fef64fb38141"
      },
      "execution_count": null,
      "outputs": [
        {
          "output_type": "stream",
          "name": "stderr",
          "text": [
            "<ipython-input-64-d7b7cf8ef185>:2: FutureWarning: \n",
            "\n",
            "Passing `palette` without assigning `hue` is deprecated and will be removed in v0.14.0. Assign the `x` variable to `hue` and set `legend=False` for the same effect.\n",
            "\n",
            "  sns.boxplot(data=online_sale, x='Delivery_Group', y='Bill_Amount', palette=\"Set3\")\n"
          ]
        },
        {
          "output_type": "display_data",
          "data": {
            "text/plain": [
              "<Figure size 800x600 with 1 Axes>"
            ],
            "image/png": "[encoded data removed]"
          },
          "metadata": {}
        }
      ]
    },
    {
      "cell_type": "markdown",
      "source": [
        "or remove outliers.\n",
        "\n",
        "you'll learn more about this latter"
      ],
      "metadata": {
        "id": "YAQQfjrrW1OM"
      }
    },
    {
      "cell_type": "code",
      "source": [
        "# Calculate the 5th and 95th percentiles\n",
        "lower_bound = online_sale['Bill_Amount'].quantile(0.05)\n",
        "upper_bound = online_sale['Bill_Amount'].quantile(0.95)\n",
        "\n",
        "# Filter data to remove outliers\n",
        "filtered_data = online_sale[(online_sale['Bill_Amount'] >= lower_bound) & (online_sale['Bill_Amount'] <= upper_bound)]\n",
        "\n",
        "# Re-plot the boxplot with filtered data\n",
        "plt.figure(figsize=(8, 6))\n",
        "sns.boxplot(data=filtered_data, x='Delivery_Group', y='Bill_Amount', palette=\"Set3\")\n",
        "plt.title('Comparison of Bill Amounts Across Delivery Charge Groups (Filtered)', fontsize=16)\n",
        "plt.xlabel('Delivery Charge Group', fontsize=14)\n",
        "plt.ylabel('Bill Amount (Filtered)', fontsize=14)\n",
        "plt.tight_layout()\n",
        "plt.show()"
      ],
      "metadata": {
        "colab": {
          "base_uri": "https://localhost:8080/",
          "height": 694
        },
        "id": "ulPLmqv-WqAT",
        "outputId": "cb828a13-f0cb-4e4c-8b87-1c6a838ca050"
      },
      "execution_count": null,
      "outputs": [
        {
          "output_type": "stream",
          "name": "stderr",
          "text": [
            "<ipython-input-66-c9f98fd9db9a>:10: FutureWarning: \n",
            "\n",
            "Passing `palette` without assigning `hue` is deprecated and will be removed in v0.14.0. Assign the `x` variable to `hue` and set `legend=False` for the same effect.\n",
            "\n",
            "  sns.boxplot(data=filtered_data, x='Delivery_Group', y='Bill_Amount', palette=\"Set3\")\n"
          ]
        },
        {
          "output_type": "display_data",
          "data": {
            "text/plain": [
              "<Figure size 800x600 with 1 Axes>"
            ],
            "image/png": "[encoded data removed]"
          },
          "metadata": {}
        }
      ]
    },
    {
      "cell_type": "code",
      "source": [],
      "metadata": {
        "id": "HCMiLks_WyFg"
      },
      "execution_count": null,
      "outputs": []
    }
  ]
}